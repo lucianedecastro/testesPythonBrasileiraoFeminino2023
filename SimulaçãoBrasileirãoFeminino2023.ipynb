{
  "nbformat": 4,
  "nbformat_minor": 0,
  "metadata": {
    "colab": {
      "provenance": [],
      "mount_file_id": "13yAwyaIQ4j1BZ8-zRSXdzgQUHwzb14kM",
      "authorship_tag": "ABX9TyNjU8ZTwjGHDmM2lv3UQSke",
      "include_colab_link": true
    },
    "kernelspec": {
      "name": "python3",
      "display_name": "Python 3"
    },
    "language_info": {
      "name": "python"
    }
  },
  "cells": [
    {
      "cell_type": "markdown",
      "metadata": {
        "id": "view-in-github",
        "colab_type": "text"
      },
      "source": [
        "<a href=\"https://colab.research.google.com/github/lucianedecastro/testesPythonBrasileiraoFeminino2023/blob/main/Simula%C3%A7%C3%A3oBrasileir%C3%A3oFeminino2023.ipynb\" target=\"_parent\"><img src=\"https://colab.research.google.com/assets/colab-badge.svg\" alt=\"Open In Colab\"/></a>"
      ]
    },
    {
      "cell_type": "markdown",
      "source": [
        "**Desempenho das equipes participantes do Brasileiro Feminino de 2023 - Série A1**"
      ],
      "metadata": {
        "id": "IIvCzSMOshHB"
      }
    },
    {
      "cell_type": "code",
      "execution_count": 1,
      "metadata": {
        "id": "TbhGFUA-rrgH"
      },
      "outputs": [],
      "source": [
        "import random"
      ]
    },
    {
      "cell_type": "code",
      "source": [
        "# Lista com os nomes dos times\n",
        "times = ['Cruzeiro', 'Grêmio', 'Atlético_MG','Atlético_PR','Bahia','Kindermann','Real Brasilia','Real Ariquemes','Ceará','SPFC','Corinthians','Internacional',\n",
        "                  'Palmeiras','Ferroviária','Santos','Flamengo']"
      ],
      "metadata": {
        "id": "H1wxvj5NzwGC"
      },
      "execution_count": 2,
      "outputs": []
    },
    {
      "cell_type": "code",
      "source": [
        "# Função para simular uma partida\n",
        "def simular_partida(time_casa, time_fora):\n",
        "    gols_casa = random.randint(0, 3)\n",
        "    gols_fora = random.randint(0, 3)\n",
        "    return gols_casa, gols_fora"
      ],
      "metadata": {
        "id": "5LUSNohl2QW4"
      },
      "execution_count": 3,
      "outputs": []
    },
    {
      "cell_type": "code",
      "source": [
        "# Função para exibir a tabela de um grupo\n",
        "def exibir_tabela(grupo):\n",
        "    print(\"-\" * 20)\n",
        "    print(\"Classificação:\")\n",
        "    for time, pontos in sorted(grupo.items(), key=lambda item: item[1], reverse=True):\n",
        "        print(f\"{time}: {pontos} pontos\")\n",
        "print(\"-\" * 20)"
      ],
      "metadata": {
        "colab": {
          "base_uri": "https://localhost:8080/"
        },
        "id": "GRFOK5HF2UDG",
        "outputId": "97d5f9c2-50b0-41c8-df2c-abe9ad172e6e"
      },
      "execution_count": 5,
      "outputs": [
        {
          "output_type": "stream",
          "name": "stdout",
          "text": [
            "--------------------\n"
          ]
        }
      ]
    },
    {
      "cell_type": "code",
      "source": [
        "# Primeira Fase: Todos contra todos (turno único)\n",
        "\n",
        "tabela_primeira_fase = {time: 0 for time in times}\n",
        "\n",
        "for i in range(len(times)):\n",
        "    for j in range(i + 1, len(times)):\n",
        "        time_casa = times[i]\n",
        "        time_fora = times[j]\n",
        "        gols_casa, gols_fora = simular_partida(time_casa, time_fora)\n",
        "        print(f\"{time_casa} {gols_casa} x {gols_fora} {time_fora}\")\n",
        "        if gols_casa > gols_fora:\n",
        "            tabela_primeira_fase[time_casa] += 3  # Vitória: 3 pontos\n",
        "        elif gols_casa < gols_fora:\n",
        "            tabela_primeira_fase[time_fora] += 3\n",
        "        else:\n",
        "            tabela_primeira_fase[time_casa] += 1  # Empate: 1 ponto\n",
        "            tabela_primeira_fase[time_fora] += 1"
      ],
      "metadata": {
        "colab": {
          "base_uri": "https://localhost:8080/"
        },
        "id": "UaTLXtZe2dLW",
        "outputId": "fb8d7621-1f61-4514-fbcf-b197183dc0be"
      },
      "execution_count": 6,
      "outputs": [
        {
          "output_type": "stream",
          "name": "stdout",
          "text": [
            "Cruzeiro 1 x 3 Grêmio\n",
            "Cruzeiro 2 x 3 Atlético_MG\n",
            "Cruzeiro 2 x 1 Atlético_PR\n",
            "Cruzeiro 2 x 0 Bahia\n",
            "Cruzeiro 1 x 0 Kindermann\n",
            "Cruzeiro 3 x 0 Real Brasilia\n",
            "Cruzeiro 1 x 2 Real Ariquemes\n",
            "Cruzeiro 1 x 3 Ceará\n",
            "Cruzeiro 3 x 2 SPFC\n",
            "Cruzeiro 0 x 2 Corinthians\n",
            "Cruzeiro 0 x 2 Internacional\n",
            "Cruzeiro 3 x 3 Palmeiras\n",
            "Cruzeiro 0 x 1 Ferroviária\n",
            "Cruzeiro 1 x 2 Santos\n",
            "Cruzeiro 0 x 2 Flamengo\n",
            "Grêmio 2 x 0 Atlético_MG\n",
            "Grêmio 2 x 1 Atlético_PR\n",
            "Grêmio 1 x 2 Bahia\n",
            "Grêmio 0 x 0 Kindermann\n",
            "Grêmio 3 x 2 Real Brasilia\n",
            "Grêmio 3 x 2 Real Ariquemes\n",
            "Grêmio 2 x 2 Ceará\n",
            "Grêmio 1 x 2 SPFC\n",
            "Grêmio 3 x 0 Corinthians\n",
            "Grêmio 1 x 3 Internacional\n",
            "Grêmio 3 x 2 Palmeiras\n",
            "Grêmio 0 x 3 Ferroviária\n",
            "Grêmio 3 x 1 Santos\n",
            "Grêmio 0 x 3 Flamengo\n",
            "Atlético_MG 1 x 1 Atlético_PR\n",
            "Atlético_MG 3 x 1 Bahia\n",
            "Atlético_MG 0 x 3 Kindermann\n",
            "Atlético_MG 3 x 1 Real Brasilia\n",
            "Atlético_MG 3 x 2 Real Ariquemes\n",
            "Atlético_MG 2 x 1 Ceará\n",
            "Atlético_MG 1 x 0 SPFC\n",
            "Atlético_MG 0 x 2 Corinthians\n",
            "Atlético_MG 1 x 2 Internacional\n",
            "Atlético_MG 1 x 0 Palmeiras\n",
            "Atlético_MG 0 x 0 Ferroviária\n",
            "Atlético_MG 1 x 0 Santos\n",
            "Atlético_MG 0 x 3 Flamengo\n",
            "Atlético_PR 2 x 0 Bahia\n",
            "Atlético_PR 3 x 1 Kindermann\n",
            "Atlético_PR 0 x 2 Real Brasilia\n",
            "Atlético_PR 0 x 3 Real Ariquemes\n",
            "Atlético_PR 3 x 0 Ceará\n",
            "Atlético_PR 2 x 2 SPFC\n",
            "Atlético_PR 2 x 3 Corinthians\n",
            "Atlético_PR 2 x 1 Internacional\n",
            "Atlético_PR 3 x 2 Palmeiras\n",
            "Atlético_PR 1 x 2 Ferroviária\n",
            "Atlético_PR 0 x 3 Santos\n",
            "Atlético_PR 0 x 2 Flamengo\n",
            "Bahia 2 x 1 Kindermann\n",
            "Bahia 1 x 1 Real Brasilia\n",
            "Bahia 0 x 0 Real Ariquemes\n",
            "Bahia 0 x 3 Ceará\n",
            "Bahia 2 x 1 SPFC\n",
            "Bahia 3 x 3 Corinthians\n",
            "Bahia 0 x 1 Internacional\n",
            "Bahia 2 x 2 Palmeiras\n",
            "Bahia 3 x 0 Ferroviária\n",
            "Bahia 0 x 2 Santos\n",
            "Bahia 3 x 3 Flamengo\n",
            "Kindermann 3 x 1 Real Brasilia\n",
            "Kindermann 0 x 1 Real Ariquemes\n",
            "Kindermann 3 x 3 Ceará\n",
            "Kindermann 1 x 2 SPFC\n",
            "Kindermann 3 x 1 Corinthians\n",
            "Kindermann 3 x 2 Internacional\n",
            "Kindermann 3 x 3 Palmeiras\n",
            "Kindermann 2 x 0 Ferroviária\n",
            "Kindermann 3 x 2 Santos\n",
            "Kindermann 3 x 1 Flamengo\n",
            "Real Brasilia 3 x 3 Real Ariquemes\n",
            "Real Brasilia 1 x 1 Ceará\n",
            "Real Brasilia 2 x 0 SPFC\n",
            "Real Brasilia 1 x 1 Corinthians\n",
            "Real Brasilia 2 x 1 Internacional\n",
            "Real Brasilia 3 x 3 Palmeiras\n",
            "Real Brasilia 0 x 1 Ferroviária\n",
            "Real Brasilia 2 x 1 Santos\n",
            "Real Brasilia 2 x 2 Flamengo\n",
            "Real Ariquemes 0 x 3 Ceará\n",
            "Real Ariquemes 3 x 3 SPFC\n",
            "Real Ariquemes 3 x 0 Corinthians\n",
            "Real Ariquemes 1 x 2 Internacional\n",
            "Real Ariquemes 0 x 0 Palmeiras\n",
            "Real Ariquemes 0 x 3 Ferroviária\n",
            "Real Ariquemes 2 x 0 Santos\n",
            "Real Ariquemes 2 x 0 Flamengo\n",
            "Ceará 1 x 3 SPFC\n",
            "Ceará 2 x 1 Corinthians\n",
            "Ceará 2 x 3 Internacional\n",
            "Ceará 1 x 3 Palmeiras\n",
            "Ceará 3 x 1 Ferroviária\n",
            "Ceará 2 x 3 Santos\n",
            "Ceará 3 x 3 Flamengo\n",
            "SPFC 1 x 1 Corinthians\n",
            "SPFC 0 x 3 Internacional\n",
            "SPFC 3 x 3 Palmeiras\n",
            "SPFC 1 x 0 Ferroviária\n",
            "SPFC 2 x 2 Santos\n",
            "SPFC 2 x 3 Flamengo\n",
            "Corinthians 1 x 3 Internacional\n",
            "Corinthians 1 x 0 Palmeiras\n",
            "Corinthians 0 x 2 Ferroviária\n",
            "Corinthians 1 x 2 Santos\n",
            "Corinthians 1 x 2 Flamengo\n",
            "Internacional 0 x 1 Palmeiras\n",
            "Internacional 0 x 3 Ferroviária\n",
            "Internacional 3 x 2 Santos\n",
            "Internacional 1 x 0 Flamengo\n",
            "Palmeiras 2 x 2 Ferroviária\n",
            "Palmeiras 3 x 3 Santos\n",
            "Palmeiras 1 x 1 Flamengo\n",
            "Ferroviária 3 x 1 Santos\n",
            "Ferroviária 0 x 1 Flamengo\n",
            "Santos 1 x 2 Flamengo\n"
          ]
        }
      ]
    },
    {
      "cell_type": "code",
      "source": [
        "# Classificação da Primeira Fase:\n",
        "print(\"\\nClassificação da Primeira Fase:\")\n",
        "exibir_tabela(tabela_primeira_fase)\n",
        "\n",
        "# Obter os 8 melhores times da Primeira Fase\n",
        "times_classificados = sorted(tabela_primeira_fase, key=tabela_primeira_fase.get, reverse=True)[:8]"
      ],
      "metadata": {
        "colab": {
          "base_uri": "https://localhost:8080/"
        },
        "id": "Jl_e1Ki62kqr",
        "outputId": "c33b225d-ca5f-438a-ad98-07142e17d4f7"
      },
      "execution_count": 7,
      "outputs": [
        {
          "output_type": "stream",
          "name": "stdout",
          "text": [
            "\n",
            "Classificação da Primeira Fase:\n",
            "--------------------\n",
            "Classificação:\n",
            "Internacional: 30 pontos\n",
            "Flamengo: 28 pontos\n",
            "Grêmio: 26 pontos\n",
            "Atlético_MG: 26 pontos\n",
            "Ferroviária: 26 pontos\n",
            "Kindermann: 24 pontos\n",
            "Real Ariquemes: 22 pontos\n",
            "Ceará: 19 pontos\n",
            "Real Brasilia: 18 pontos\n",
            "Atlético_PR: 17 pontos\n",
            "Bahia: 17 pontos\n",
            "SPFC: 17 pontos\n",
            "Santos: 17 pontos\n",
            "Cruzeiro: 16 pontos\n",
            "Corinthians: 15 pontos\n",
            "Palmeiras: 15 pontos\n"
          ]
        }
      ]
    },
    {
      "cell_type": "code",
      "source": [
        "# Segunda Fase (Quartas de Final): Mata-mata em dois jogos (ida e volta)\n",
        "# Cria os confrontos das quartas de final (sorteio aleatório)\n",
        "random.shuffle(times_classificados)\n",
        "confrontos_quartas = [(times_classificados[i], times_classificados[i + 1]) for i in range(0, 8, 2)]"
      ],
      "metadata": {
        "id": "3UIV9cM-2qyU"
      },
      "execution_count": 8,
      "outputs": []
    },
    {
      "cell_type": "code",
      "source": [
        "# Simula as quartas de final\n",
        "times_semifinal = []\n",
        "for time1, time2 in confrontos_quartas:\n",
        "    gols_ida_t1, gols_ida_t2 = simular_partida(time1, time2)\n",
        "    gols_volta_t1, gols_volta_t2 = simular_partida(time2, time1)\n",
        "    saldo_gols_t1 = gols_ida_t1 + gols_volta_t1\n",
        "    saldo_gols_t2 = gols_ida_t2 + gols_volta_t2\n",
        "\n",
        "    print(f\"\\nQuartas de Final: {time1} ({saldo_gols_t1}) x ({saldo_gols_t2}) {time2}\")\n",
        "\n",
        "    if saldo_gols_t1 > saldo_gols_t2:\n",
        "        times_semifinal.append(time1)\n",
        "    elif saldo_gols_t1 < saldo_gols_t2:\n",
        "        times_semifinal.append(time2)\n",
        "    else:\n",
        "        # Em caso de empate no saldo de gols, decide nos pênaltis\n",
        "        penaltis = random.choice([time1, time2])\n",
        "        print(f\"Decisão por pênaltis: {penaltis} avança!\")\n",
        "        times_semifinal.append(penaltis)"
      ],
      "metadata": {
        "colab": {
          "base_uri": "https://localhost:8080/"
        },
        "id": "lwrQyBwi2xFt",
        "outputId": "f11f5789-e041-471f-ba71-95f865f5ec52"
      },
      "execution_count": 9,
      "outputs": [
        {
          "output_type": "stream",
          "name": "stdout",
          "text": [
            "\n",
            "Quartas de Final: Internacional (1) x (1) Flamengo\n",
            "Decisão por pênaltis: Internacional avança!\n",
            "\n",
            "Quartas de Final: Grêmio (2) x (5) Ceará\n",
            "\n",
            "Quartas de Final: Real Ariquemes (1) x (5) Atlético_MG\n",
            "\n",
            "Quartas de Final: Ferroviária (4) x (2) Kindermann\n"
          ]
        }
      ]
    },
    {
      "cell_type": "code",
      "source": [
        "# Terceira Fase (Semifinal): Mata-mata em dois jogos (ida e volta)\n",
        "\n",
        "# Cria os confrontos da semifinal (sorteio aleatório)\n",
        "random.shuffle(times_semifinal)\n",
        "confrontos_semifinal = [(times_semifinal[i], times_semifinal[i + 1]) for i in range(0, 4, 2)]"
      ],
      "metadata": {
        "id": "rH9v-6Pe23uT"
      },
      "execution_count": 10,
      "outputs": []
    },
    {
      "cell_type": "code",
      "source": [
        "# Simula as semifinais\n",
        "times_final = []\n",
        "for time1, time2 in confrontos_semifinal:\n",
        "    gols_ida_t1, gols_ida_t2 = simular_partida(time1, time2)\n",
        "    gols_volta_t1, gols_volta_t2 = simular_partida(time2, time1)\n",
        "    saldo_gols_t1 = gols_ida_t1 + gols_volta_t1\n",
        "    saldo_gols_t2 = gols_ida_t2 + gols_volta_t2\n",
        "\n",
        "    print(f\"\\nSemifinal: {time1} ({saldo_gols_t1}) x ({saldo_gols_t2}) {time2}\")\n",
        "\n",
        "    if saldo_gols_t1 > saldo_gols_t2:\n",
        "        times_final.append(time1)\n",
        "    elif saldo_gols_t1 < saldo_gols_t2:\n",
        "        times_final.append(time2)\n",
        "    else:\n",
        "        # Em caso de empate no saldo de gols, decide nos pênaltis\n",
        "        penaltis = random.choice([time1, time2])\n",
        "        print(f\"Decisão por pênaltis: {penaltis} avança!\")\n",
        "        times_final.append(penaltis)"
      ],
      "metadata": {
        "colab": {
          "base_uri": "https://localhost:8080/"
        },
        "id": "_UI24cES3jf_",
        "outputId": "4aaf4cea-1a26-47a0-e383-7963d760bec2"
      },
      "execution_count": 12,
      "outputs": [
        {
          "output_type": "stream",
          "name": "stdout",
          "text": [
            "\n",
            "Semifinal: Ceará (5) x (3) Atlético_MG\n",
            "\n",
            "Semifinal: Internacional (3) x (6) Ferroviária\n"
          ]
        }
      ]
    },
    {
      "cell_type": "code",
      "source": [
        "# Quarta Fase (Final): Mata-mata em jogo único\n",
        "\n",
        "time1, time2 = times_final  # Desempacota os times da final\n",
        "\n",
        "gols_final_t1, gols_final_t2 = simular_partida(time1, time2)\n",
        "\n",
        "print(f\"\\nFinal: {time1} {gols_final_t1} x {gols_final_t2} {time2}\")\n",
        "\n",
        "if gols_final_t1 > gols_final_t2:\n",
        "    campeao = time1\n",
        "elif gols_final_t1 < gols_final_t2:\n",
        "    campeao = time2\n",
        "else:\n",
        "    # Em caso de empate na final, decide nos pênaltis\n",
        "    campeao = random.choice([time1, time2])\n",
        "    print(f\"Decisão por pênaltis: {campeao} é o campeão!\")\n",
        "\n",
        "print(f\"\\nParabéns, {campeao}! Vocês são as campeãs do Brasileirão Feminino!\")"
      ],
      "metadata": {
        "colab": {
          "base_uri": "https://localhost:8080/"
        },
        "id": "8OhwPMuv3pRt",
        "outputId": "1f154602-dad5-4edf-ea4d-8fb8384e6afa"
      },
      "execution_count": 14,
      "outputs": [
        {
          "output_type": "stream",
          "name": "stdout",
          "text": [
            "\n",
            "Final: Ceará 1 x 3 Ferroviária\n",
            "\n",
            "Parabéns, Ferroviária! Vocês são as campeãs do Brasileirão Feminino!\n"
          ]
        }
      ]
    }
  ]
}